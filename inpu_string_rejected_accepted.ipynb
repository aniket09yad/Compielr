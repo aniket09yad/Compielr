{
 "cells": [
  {
   "cell_type": "code",
   "execution_count": 1,
   "id": "89307678-261d-4895-9dbf-eecbe5d75fc8",
   "metadata": {},
   "outputs": [
    {
     "name": "stdout",
     "output_type": "stream",
     "text": [
      "input: 1 -> REJECTED\n",
      "input: 10101 -> accepted\n",
      "input: 101 -> accepted\n",
      "input: 10111 -> accepted\n",
      "input: 01010 -> rejected\n",
      "input: 100 -> rejected\n",
      "input: 1011101 -> accepted\n"
     ]
    }
   ],
   "source": [
    "def FA(s):\n",
    "    if len(s)<3:\n",
    "        return \"REJECTED\"\n",
    "    if s[:3]==\"101\":\n",
    "        for i in range (3,len(s)):\n",
    "            if s[i]==0:\n",
    "                return \"Rejected\"\n",
    "        return \"accepted\"\n",
    "    return \"rejected\"\n",
    "input_string=['1','10101','101','10111','01010','100','1011101']\n",
    "for i in input_string:\n",
    "    print(f\"input: {i} -> {FA(i)}\")"
   ]
  },
  {
   "cell_type": "code",
   "execution_count": null,
   "id": "cfeb2107-fea5-48a2-84da-3af3b5b452b5",
   "metadata": {},
   "outputs": [],
   "source": []
  }
 ],
 "metadata": {
  "kernelspec": {
   "display_name": "Python 3 (ipykernel)",
   "language": "python",
   "name": "python3"
  },
  "language_info": {
   "codemirror_mode": {
    "name": "ipython",
    "version": 3
   },
   "file_extension": ".py",
   "mimetype": "text/x-python",
   "name": "python",
   "nbconvert_exporter": "python",
   "pygments_lexer": "ipython3",
   "version": "3.12.4"
  }
 },
 "nbformat": 4,
 "nbformat_minor": 5
}
