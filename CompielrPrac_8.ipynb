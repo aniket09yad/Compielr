{
 "cells": [
  {
   "cell_type": "code",
   "execution_count": 36,
   "id": "3cb185b1-7e5a-4881-80ae-4f5765202939",
   "metadata": {},
   "outputs": [
    {
     "name": "stdout",
     "output_type": "stream",
     "text": [
      "Rejected\n",
      "Rejected\n",
      "Rejected\n",
      "Rejected\n",
      "Rejected\n",
      "Rejected\n"
     ]
    },
    {
     "ename": "IndexError",
     "evalue": "string index out of range",
     "output_type": "error",
     "traceback": [
      "\u001b[1;31m---------------------------------------------------------------------------\u001b[0m",
      "\u001b[1;31mIndexError\u001b[0m                                Traceback (most recent call last)",
      "Cell \u001b[1;32mIn[36], line 17\u001b[0m\n\u001b[0;32m     15\u001b[0m inputs \u001b[38;5;241m=\u001b[39m [\u001b[38;5;124m'\u001b[39m\u001b[38;5;124m1\u001b[39m\u001b[38;5;124m'\u001b[39m,\u001b[38;5;124m'\u001b[39m\u001b[38;5;124m10101\u001b[39m\u001b[38;5;124m'\u001b[39m,\u001b[38;5;124m'\u001b[39m\u001b[38;5;124m101\u001b[39m\u001b[38;5;124m'\u001b[39m,\u001b[38;5;124m'\u001b[39m\u001b[38;5;124m10111\u001b[39m\u001b[38;5;124m'\u001b[39m,\u001b[38;5;124m'\u001b[39m\u001b[38;5;124m01010\u001b[39m\u001b[38;5;124m'\u001b[39m,\u001b[38;5;124m'\u001b[39m\u001b[38;5;124m100\u001b[39m\u001b[38;5;124m'\u001b[39m,\u001b[38;5;124m'\u001b[39m\u001b[38;5;124m'\u001b[39m,\u001b[38;5;124m'\u001b[39m\u001b[38;5;124m10111101\u001b[39m\u001b[38;5;124m'\u001b[39m,\u001b[38;5;124m'\u001b[39m\u001b[38;5;124m1011111\u001b[39m\u001b[38;5;124m'\u001b[39m]\n\u001b[0;32m     16\u001b[0m \u001b[38;5;28;01mfor\u001b[39;00m i \u001b[38;5;129;01min\u001b[39;00m inputs:\n\u001b[1;32m---> 17\u001b[0m     \u001b[38;5;28mprint\u001b[39m(FA(i))\n",
      "Cell \u001b[1;32mIn[36], line 4\u001b[0m, in \u001b[0;36mFA\u001b[1;34m(s)\u001b[0m\n\u001b[0;32m      2\u001b[0m \u001b[38;5;28;01mif\u001b[39;00m \u001b[38;5;28mlen\u001b[39m(s):\n\u001b[0;32m      3\u001b[0m     \u001b[38;5;28;01mreturn\u001b[39;00m \u001b[38;5;124m\"\u001b[39m\u001b[38;5;124mRejected\u001b[39m\u001b[38;5;124m\"\u001b[39m\n\u001b[1;32m----> 4\u001b[0m \u001b[38;5;28;01mif\u001b[39;00m s[\u001b[38;5;241m0\u001b[39m]\u001b[38;5;241m==\u001b[39m\u001b[38;5;124m'\u001b[39m\u001b[38;5;124m1\u001b[39m\u001b[38;5;124m'\u001b[39m:\n\u001b[0;32m      5\u001b[0m     \u001b[38;5;28;01mif\u001b[39;00m s[\u001b[38;5;241m1\u001b[39m]\u001b[38;5;241m==\u001b[39m\u001b[38;5;124m'\u001b[39m\u001b[38;5;124m0\u001b[39m\u001b[38;5;124m'\u001b[39m:\n\u001b[0;32m      6\u001b[0m         \u001b[38;5;28;01mif\u001b[39;00m s[\u001b[38;5;241m2\u001b[39m]\u001b[38;5;241m==\u001b[39m\u001b[38;5;124m'\u001b[39m\u001b[38;5;124m1\u001b[39m\u001b[38;5;124m'\u001b[39m:\n",
      "\u001b[1;31mIndexError\u001b[0m: string index out of range"
     ]
    }
   ],
   "source": [
    "def FA(s):\n",
    "    if len(s):\n",
    "        return \"Rejected\"\n",
    "    if s[0]=='1':\n",
    "        if s[1]=='0':\n",
    "            if s[2]=='1':\n",
    "                for i in range(3,len(s)):\n",
    "                    if s[i]!='1':\n",
    "                        return \"Rejected\"\n",
    "                    return \"Accepted\"\n",
    "                return \"Rejected\"\n",
    "            return \"Rejected\"\n",
    "        return \"Rejected\"\n",
    "\n",
    "inputs = ['1','10101','101','10111','01010','100','','10111101','1011111']\n",
    "for i in inputs:\n",
    "    print(FA(i))\n",
    "                \n",
    "        "
   ]
  },
  {
   "cell_type": "code",
   "execution_count": 42,
   "id": "b2194574-1f35-42f3-9d77-688b8e44ac4f",
   "metadata": {},
   "outputs": [
    {
     "name": "stdout",
     "output_type": "stream",
     "text": [
      "1 - Does not match the pattern\n",
      "10101 - Does not match the pattern\n",
      "101 - Matches the pattern\n",
      "10111 - Matches the pattern\n",
      "01010 - Does not match the pattern\n",
      "100 - Does not match the pattern\n",
      " - Does not match the pattern\n",
      "10111101 - Does not match the pattern\n",
      "1011111 - Matches the pattern\n"
     ]
    }
   ],
   "source": [
    "\n",
    "\n",
    "\n",
    "def check_pattern(string):\n",
    "    \"\"\"\n",
    "    Checks if the given string matches the regular expression \"101+\" using a finite automaton. \n",
    "    \n",
    "    Args:\n",
    "        string: The input string to check.\n",
    "\n",
    "    Returns:\n",
    "        bool: True if the string matches the pattern, False otherwise.\n",
    "    \"\"\"\n",
    "    state = 0  # Initial state\n",
    "    for char in string:\n",
    "        if state == 0:\n",
    "            if char == '1':\n",
    "                state = 1\n",
    "            else:\n",
    "                return False\n",
    "        elif state == 1:\n",
    "            if char == '0':\n",
    "                state = 2\n",
    "            else:\n",
    "                return False\n",
    "        elif state == 2:\n",
    "            if char == '1':\n",
    "                state = 2  # Stay in state 2 for any subsequent '1'\n",
    "            else:\n",
    "                return False\n",
    "    \n",
    "    # Accept state is 2 if the string ends with '1' or more '1's\n",
    "    return state == 2 \n",
    "\n",
    "# Example usage\n",
    "# test_strings = [\"101\", \"1011\", \"10111\", \"1001\", \"1101\"]\n",
    "test_strings = ['1','10101','101','10111','01010','100','','10111101','1011111']\n",
    "\n",
    "for string in test_strings:\n",
    "    if check_pattern(string):\n",
    "        print(f\"{string} - Matches the pattern\")\n",
    "    else:\n",
    "        print(f\"{string} - Does not match the pattern\")\n"
   ]
  },
  {
   "cell_type": "code",
   "execution_count": null,
   "id": "2d37f0b2-df94-4c0e-b7ce-ef6cbb4c9d91",
   "metadata": {},
   "outputs": [],
   "source": []
  }
 ],
 "metadata": {
  "kernelspec": {
   "display_name": "Python 3 (ipykernel)",
   "language": "python",
   "name": "python3"
  },
  "language_info": {
   "codemirror_mode": {
    "name": "ipython",
    "version": 3
   },
   "file_extension": ".py",
   "mimetype": "text/x-python",
   "name": "python",
   "nbconvert_exporter": "python",
   "pygments_lexer": "ipython3",
   "version": "3.12.4"
  }
 },
 "nbformat": 4,
 "nbformat_minor": 5
}
