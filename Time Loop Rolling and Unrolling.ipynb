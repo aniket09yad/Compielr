{
 "cells": [
  {
   "cell_type": "code",
   "execution_count": 10,
   "id": "2ab2469d-db6c-40c3-a639-26777f55a4f0",
   "metadata": {},
   "outputs": [
    {
     "name": "stdout",
     "output_type": "stream",
     "text": [
      "t1 = 1727016630.708461\n"
     ]
    }
   ],
   "source": [
    "import time\n",
    "\n",
    "# Start time\n",
    "t1 = time.time()\n",
    "print(\"t1 =\", t1)\n",
    "\n"
   ]
  },
  {
   "cell_type": "code",
   "execution_count": 12,
   "id": "1198a4a9-f8cc-4c98-8da9-00cf0bb29786",
   "metadata": {},
   "outputs": [
    {
     "name": "stdout",
     "output_type": "stream",
     "text": [
      "0123456789101112131415161718192021222324252627282930313233343536373839404142434445464748495051525354555657585960616263646566676869707172737475767778798081828384858687888990919293949596979899\n",
      "t2 = 1727016646.1131804\n",
      "Execution time before loop unrolling: 15.404719352722168\n"
     ]
    }
   ],
   "source": [
    "# Entry-controlled for loop\n",
    "for i in range(100):\n",
    "    print(i, end=\"\")\n",
    "\n",
    "print()  # New line after the loop\n",
    "\n",
    "# Time after for loop\n",
    "t2 = time.time()\n",
    "print(\"t2 =\", t2)\n",
    "print(\"Execution time before loop unrolling:\", t2 - t1)\n",
    "\n"
   ]
  },
  {
   "cell_type": "code",
   "execution_count": 16,
   "id": "6d326809-b90b-46e5-b8e7-15c3cd391139",
   "metadata": {},
   "outputs": [
    {
     "name": "stdout",
     "output_type": "stream",
     "text": [
      "0123456789101112131415161718192021222324252627282930313233343536373839404142434445464748495051525354555657585960616263646566676869707172737475767778798081828384858687888990919293949596979899"
     ]
    }
   ],
   "source": [
    "# Entry-controlled while loop (simulated with a for loop for clarity)\n",
    "for i in range(0, 100, 5):  # Unrolling by processing 5 elements per iteration\n",
    "    print(i, end=\"\")\n",
    "    print(i + 1, end=\"\")\n",
    "    print(i + 2, end=\"\")\n",
    "    print(i + 3, end=\"\")\n",
    "    print(i + 4, end=\"\")\n",
    "\n"
   ]
  },
  {
   "cell_type": "code",
   "execution_count": 18,
   "id": "263d534a-cdad-4b6c-b2a0-e6a34dfcbd77",
   "metadata": {},
   "outputs": [
    {
     "name": "stdout",
     "output_type": "stream",
     "text": [
      "\n",
      "t3 = 1727016730.666247\n",
      "Execution time after loop unrolling  84.55306649208069\n"
     ]
    }
   ],
   "source": [
    "# Time after unrolled loop\n",
    "t3 = time.time()\n",
    "print()  # New line after the loop\n",
    "print(\"t3 =\", t3)\n",
    "# print(\"Execution time after loop unrolling:\", t3 - t2)\n",
    "\n",
    "print(\"Execution time after loop unrolling \", t3-t2)"
   ]
  },
  {
   "cell_type": "code",
   "execution_count": null,
   "id": "02363637-2a14-4988-b287-4e33c0cd6e02",
   "metadata": {},
   "outputs": [],
   "source": []
  }
 ],
 "metadata": {
  "kernelspec": {
   "display_name": "Python 3 (ipykernel)",
   "language": "python",
   "name": "python3"
  },
  "language_info": {
   "codemirror_mode": {
    "name": "ipython",
    "version": 3
   },
   "file_extension": ".py",
   "mimetype": "text/x-python",
   "name": "python",
   "nbconvert_exporter": "python",
   "pygments_lexer": "ipython3",
   "version": "3.12.4"
  }
 },
 "nbformat": 4,
 "nbformat_minor": 5
}
