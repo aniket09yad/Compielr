{
 "cells": [
  {
   "cell_type": "code",
   "execution_count": 5,
   "id": "75161aa9-f14b-43d5-a8f1-93b25926b63b",
   "metadata": {},
   "outputs": [
    {
     "name": "stdin",
     "output_type": "stream",
     "text": [
      "Number of input:  4\n",
      "Entry (1) :  2\n",
      "Entry (2) :  1\n",
      "Entry (3) :  2\n",
      "Entry (4) :  3\n"
     ]
    },
    {
     "ename": "IndexError",
     "evalue": "list index out of range",
     "output_type": "error",
     "traceback": [
      "\u001b[1;31m---------------------------------------------------------------------------\u001b[0m",
      "\u001b[1;31mIndexError\u001b[0m                                Traceback (most recent call last)",
      "Cell \u001b[1;32mIn[5], line 69\u001b[0m\n\u001b[0;32m     66\u001b[0m     \u001b[38;5;28;01mfor\u001b[39;00m i \u001b[38;5;129;01min\u001b[39;00m result:\n\u001b[0;32m     67\u001b[0m         \u001b[38;5;28mprint\u001b[39m(i)\n\u001b[1;32m---> 69\u001b[0m Quadruples()\n",
      "Cell \u001b[1;32mIn[5], line 17\u001b[0m, in \u001b[0;36mQuadruples\u001b[1;34m()\u001b[0m\n\u001b[0;32m     15\u001b[0m temp_lst\u001b[38;5;241m.\u001b[39mappend(splitList[\u001b[38;5;241m0\u001b[39m])\n\u001b[0;32m     16\u001b[0m \u001b[38;5;28;01mfor\u001b[39;00m i \u001b[38;5;129;01min\u001b[39;00m operators:\n\u001b[1;32m---> 17\u001b[0m     \u001b[38;5;28;01mif\u001b[39;00m(splitList[\u001b[38;5;241m1\u001b[39m][\u001b[38;5;241m0\u001b[39m] \u001b[38;5;241m==\u001b[39m i):\n\u001b[0;32m     18\u001b[0m         first_operator \u001b[38;5;241m=\u001b[39m \u001b[38;5;28;01mTrue\u001b[39;00m\n\u001b[0;32m     19\u001b[0m \u001b[38;5;28;01mif\u001b[39;00m(first_operator \u001b[38;5;241m==\u001b[39m \u001b[38;5;28;01mTrue\u001b[39;00m):\n",
      "\u001b[1;31mIndexError\u001b[0m: list index out of range"
     ]
    }
   ],
   "source": [
    "def Quadruples():\n",
    "    numerOfInput = int(input(\"Number of input: \"))\n",
    "    count = 0\n",
    "    mainList = []\n",
    "    operators = [\"+\",\"-\",\"*\",\"/\",\"%\"]\n",
    "    result = [[\"result\",\"left\",\"operator\",\"right\"]]\n",
    "    while(count < numerOfInput):\n",
    "        entry = input(f\"Entry ({count+1}) : \")\n",
    "        mainList.append(entry)\n",
    "        count += 1\n",
    "    for i in mainList:\n",
    "        temp_lst = []\n",
    "        first_operator = False\n",
    "        splitList = i.split(\"=\")\n",
    "        temp_lst.append(splitList[0])\n",
    "        for i in operators:\n",
    "            if(splitList[1][0] == i):\n",
    "                first_operator = True\n",
    "        if(first_operator == True):\n",
    "            temp_str = \"\"\n",
    "            right_turn = False\n",
    "            temp_str += splitList[1][0]\n",
    "            for j in range(1,len(splitList[1])):\n",
    "                if(right_turn == True):\n",
    "                    temp_str += splitList[1][j]\n",
    "                else:\n",
    "                    for i in operators:\n",
    "                        if(splitList[1][j] == i):\n",
    "                            temp_lst.append(temp_str)\n",
    "                            temp_str = \"\"\n",
    "                            temp_str += splitList[1][j]\n",
    "                            temp_lst.append(temp_str)\n",
    "                            temp_str = \"\"\n",
    "                            right_turn = True\n",
    "                    if(right_turn == False):\n",
    "                        temp_str += splitList[1][j]\n",
    "            if(right_turn == False):\n",
    "                temp_lst.append(\" \")\n",
    "                temp_lst.append(\"=\")\n",
    "                temp_lst.append(temp_str)\n",
    "                result.append(temp_lst)\n",
    "            else:\n",
    "                temp_lst.append(temp_str)\n",
    "                result.append(temp_lst)\n",
    "        else:\n",
    "            is_operator = False\n",
    "            for i in operators:\n",
    "                for j in splitList[1]:\n",
    "                    if(i==j):\n",
    "                        is_operator = True\n",
    "            if(is_operator):\n",
    "                for i in splitList[1]:\n",
    "                    for j in operators:\n",
    "                        if(i==j):\n",
    "                            short_split = splitList[1].split(i)\n",
    "                            temp_lst.append(short_split[0])\n",
    "                            temp_lst.append(i)\n",
    "                            temp_lst.append(short_split[1])\n",
    "                            result.append(temp_lst)\n",
    "                            break\n",
    "            else:\n",
    "                temp_lst.append(\" \")\n",
    "                temp_lst.append(\"=\")\n",
    "                temp_lst.append(splitList[1])\n",
    "                result.append(temp_lst)\n",
    "    for i in result:\n",
    "        print(i)\n",
    "                          \n",
    "Quadruples()\n",
    "    "
   ]
  },
  {
   "cell_type": "code",
   "execution_count": null,
   "id": "5f992888-4f69-41c3-ab08-4b999056fbdd",
   "metadata": {},
   "outputs": [],
   "source": []
  }
 ],
 "metadata": {
  "kernelspec": {
   "display_name": "Python 3 (ipykernel)",
   "language": "python",
   "name": "python3"
  },
  "language_info": {
   "codemirror_mode": {
    "name": "ipython",
    "version": 3
   },
   "file_extension": ".py",
   "mimetype": "text/x-python",
   "name": "python",
   "nbconvert_exporter": "python",
   "pygments_lexer": "ipython3",
   "version": "3.12.4"
  }
 },
 "nbformat": 4,
 "nbformat_minor": 5
}
