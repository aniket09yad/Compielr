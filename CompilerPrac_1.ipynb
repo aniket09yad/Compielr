{
 "cells": [
  {
   "cell_type": "code",
   "execution_count": 3,
   "id": "311a6a53-73b4-46e7-b289-580a097b48b6",
   "metadata": {},
   "outputs": [],
   "source": [
    "import nltk\n",
    "from nltk.tokenize import RegexpTokenizer"
   ]
  },
  {
   "cell_type": "code",
   "execution_count": 19,
   "id": "df5473b3-fdae-4870-bc60-3ce80cd6e2c9",
   "metadata": {},
   "outputs": [
    {
     "name": "stdout",
     "output_type": "stream",
     "text": [
      "['i', 'love', 'to', 'study', 'compiler.', 'It', 'is', 'one', 'of', 'my', 'favourite', 'subject']\n"
     ]
    },
    {
     "name": "stderr",
     "output_type": "stream",
     "text": [
      "<>:1: SyntaxWarning: invalid escape sequence '\\s'\n",
      "<>:1: SyntaxWarning: invalid escape sequence '\\s'\n",
      "C:\\Users\\anike\\AppData\\Local\\Temp\\ipykernel_11884\\2730477137.py:1: SyntaxWarning: invalid escape sequence '\\s'\n",
      "  rtk = RegexpTokenizer('\\s+',gaps = True)\n"
     ]
    }
   ],
   "source": [
    "rtk = RegexpTokenizer('\\s+',gaps = True)\n",
    "str = \"i love to study compiler. It is one of my favourite subject\"\n",
    "tokens = rtk.tokenize(str)\n",
    "print(tokens)"
   ]
  },
  {
   "cell_type": "code",
   "execution_count": null,
   "id": "0b58319b-e634-4b4e-87ac-d80a78f38de0",
   "metadata": {},
   "outputs": [],
   "source": []
  },
  {
   "cell_type": "code",
   "execution_count": null,
   "id": "8064d9e7-0917-4492-8af7-290c358f8e2e",
   "metadata": {},
   "outputs": [],
   "source": []
  }
 ],
 "metadata": {
  "kernelspec": {
   "display_name": "Python 3 (ipykernel)",
   "language": "python",
   "name": "python3"
  },
  "language_info": {
   "codemirror_mode": {
    "name": "ipython",
    "version": 3
   },
   "file_extension": ".py",
   "mimetype": "text/x-python",
   "name": "python",
   "nbconvert_exporter": "python",
   "pygments_lexer": "ipython3",
   "version": "3.12.4"
  }
 },
 "nbformat": 4,
 "nbformat_minor": 5
}
